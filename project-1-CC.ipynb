{
 "cells": [
  {
   "cell_type": "markdown",
   "metadata": {},
   "source": [
    "<img src=\"http://imgur.com/1ZcRyrc.png\" style=\"float: left; margin: 20px; height: 55px\">\n",
    "\n",
    "# Project 1: Python Coding Exercises\n",
    "\n",
    "_Authors: Joseph Nelson (DC)_\n",
    "\n",
    "---"
   ]
  },
  {
   "cell_type": "markdown",
   "metadata": {},
   "source": [
    "The following code challenges are drawn from common exercises used in technical interviews.\n",
    "\n",
    "Please note that there may be several ways to approach each challenge. If you get stuck, try mapping out your approach in pseudocode first. Finally, while solutions to problems like these may be found online, remember that if you copy/paste code that you can't explain, you'll be missing out on the point of the project. The only way to truly learn a new skill is through practice, trial, and error - we can only help you improve by understanding where you are having trouble."
   ]
  },
  {
   "cell_type": "markdown",
   "metadata": {},
   "source": [
    "### Challenge 1: Largest Palindrome\n",
    "A palindromic number reads the same both ways. For example, 1234321 is a palindrome. The largest palindrome made from the product of two two-digit numbers is 9009 = 91 × 99. Find the largest palindrome made from the product of two three-digit numbers. Afterward, write a brief explanation walking through your code's logic in markdown."
   ]
  },
  {
   "cell_type": "code",
   "execution_count": null,
   "metadata": {},
   "outputs": [],
   "source": [
    "# i definted a function max_palindrome, aka is palindrome?\n",
    "#Nested for loops multiply numbers from 999 to 100, with 1 step increment. Then I convert the result into string\n",
    "#and see if it reads ths same backwards. I store every palindrome into a list and find maximum available palindrome.\n",
    "\n",
    "def max_palindrome():\n",
    "    palindromes=[]\n",
    "    for x in range (999,100,-1):\n",
    "        for y in range (999,100,-1):\n",
    "            c = x * y\n",
    "            int_To_Str = str(c) #c\n",
    "    ##The code below checks whether a number is a palindrome. i.e. reads the same both ways\n",
    "            is_Palindrome= int_To_Str == int_To_Str[::-1]\n",
    "            if is_Palindrome == True:\n",
    "                palindromes.append(c)\n",
    "    print(max(palindromes))\n",
    "\n",
    "max_palindrome()"
   ]
  },
  {
   "cell_type": "markdown",
   "metadata": {},
   "source": [
    "\n",
    "### Challenge 2: Summation of Primes\n",
    "The sum of the primes below 10 is 2 + 3 + 5 + 7 = 17. Find the sum of all the primes below 2,000. Afterward, write a brief explanation walking through your code's logic in markdown."
   ]
  },
  {
   "cell_type": "code",
   "execution_count": null,
   "metadata": {},
   "outputs": [],
   "source": [
    "\n",
    "#function is_prime check whether any given number is a prime by checking whether when divided by integers smaller than\n",
    "#the number, the remainder is non-0.\n",
    "def is_prime(number):\n",
    "    for x in range(2,number,1):\n",
    "        z=number%x\n",
    "        if z == 0:\n",
    "            return False\n",
    "    return True \n",
    "\n",
    "prime_numbers = []\n",
    "\n",
    "# for a range from 2 to 2000, find prime numbers using is_prime function that I defined, then store it in a list, and\n",
    "#sum every element in a list\n",
    "\n",
    "for num in range(2,2000,1):\n",
    "    if is_prime(num):\n",
    "        prime_numbers.append(num)\n",
    "\n",
    "sum_primes_num = sum(prime_numbers)        \n",
    "print(sum_primes_num)        \n",
    "        \n",
    "\n"
   ]
  },
  {
   "cell_type": "markdown",
   "metadata": {},
   "source": [
    "### Challenge 3: Multiples of 3 and 5\n",
    "If we list all of the natural numbers below 10 that are multiples of 3 or 5, we get 3, 5, 6, and 9. The sum of these multiples is 23. Find the sum of all the multiples of 3 and 5 below 1,000. Afterward, write a brief explanation walking through your code's logic in markdown."
   ]
  },
  {
   "cell_type": "code",
   "execution_count": null,
   "metadata": {},
   "outputs": [],
   "source": [
    "def is_multiple_3_or_5(number):\n",
    "    div_by_3=number%3\n",
    "    div_by_5= number%5\n",
    "    if div_by_3 == 0:\n",
    "        return True\n",
    "    elif div_by_5 == 0:\n",
    "        return True\n",
    "    return False\n",
    "\n",
    "multiples_below_1000 =0\n",
    "\n",
    "for num in range(3,1000,1):\n",
    "    if is_multiple_3_or_5(num):\n",
    "        multiples_below_1000 = multiples_below_1000 + num\n",
    "        \n",
    "\n",
    "print(multiples_below_1000)"
   ]
  },
  {
   "cell_type": "markdown",
   "metadata": {},
   "source": [
    "In the previous exercises, I wrote explanations in the comments section. Now I am doing it in markdown.\n",
    "First I defined a function that checks if the number is divisible by 3 or 5 (check if the remainder is 0, then it is divisible). Then I use a for look to sum all numbers in the range between 3 and 1000. I start with 3 to optimize because we know that 1 and 2 are not divisible by 3 or 5."
   ]
  },
  {
   "cell_type": "markdown",
   "metadata": {},
   "source": [
    "### Challenge 4: String Compressor\n",
    "Implement a method to perform basic string compression using the counts of repeated characters. (This is called run-length encoding.) For example, the string \"aabcccccaaa\" would become a2b1c5a3. If the “compressed” string would not become smaller than the original string, your method should return the original string. You can assume the string has only uppercase and lowercase letters (a–z). Specify whether your solution is case sensitive or case insensitive and what you would need to change to make it the other. Afterward, write a brief explanation walking through your code's logic in markdown."
   ]
  },
  {
   "cell_type": "code",
   "execution_count": 111,
   "metadata": {},
   "outputs": [
    {
     "data": {
      "text/plain": [
       "'a2b1c5a3b2c6'"
      ]
     },
     "execution_count": 111,
     "metadata": {},
     "output_type": "execute_result"
    }
   ],
   "source": [
    "\n",
    "## i compare each element of the string (strings are lists in python so they can be indexed) to the next one and count\n",
    "## them. Then add the counter to the letter. I will think about non-case sensitive solution tomorrow :P\n",
    "\n",
    "def compression(string):\n",
    "    #the line below makes the function from being case sensitive to case sensitive\n",
    "    string = string.lower()\n",
    "    compressed = \"\"\n",
    "    counter = 1\n",
    "    for x in range(0,len(string)-1,1):\n",
    "        if string[x]==string[x+1]:\n",
    "            counter=counter+1\n",
    "        else:\n",
    "            compressed=compressed+string[x]+str(counter)\n",
    "            counter = 1\n",
    "    return compressed+string[x+1]+str(counter)\n",
    "    \n",
    "        \n",
    "compression(\"aabcccccaaabbccCCCC\")\n",
    "    \n"
   ]
  },
  {
   "cell_type": "code",
   "execution_count": null,
   "metadata": {},
   "outputs": [],
   "source": []
  },
  {
   "cell_type": "markdown",
   "metadata": {},
   "source": [
    "### *BONUS* Challenge: FizzBuzz\n",
    "Write a program that prints all of the numbers from 1 to 100. For multiples of 3, instead of the number, print \"Fizz;\" for multiples of 5, print \"Buzz.\" For numbers that are multiples of both 3 and 5, print \"FizzBuzz.\" Afterward, write a brief explanation walking through your code's logic in markdown."
   ]
  },
  {
   "cell_type": "code",
   "execution_count": 116,
   "metadata": {},
   "outputs": [
    {
     "data": {
      "text/plain": [
       "[1,\n",
       " 2,\n",
       " 'Fizz',\n",
       " 4,\n",
       " 'Buzz',\n",
       " 'Fizz',\n",
       " 7,\n",
       " 8,\n",
       " 'Fizz',\n",
       " 'Buzz',\n",
       " 11,\n",
       " 'Fizz',\n",
       " 13,\n",
       " 14,\n",
       " 'FizzBuzz',\n",
       " 16,\n",
       " 17,\n",
       " 'Fizz',\n",
       " 19,\n",
       " 'Buzz',\n",
       " 'Fizz',\n",
       " 22,\n",
       " 23,\n",
       " 'Fizz',\n",
       " 'Buzz',\n",
       " 26,\n",
       " 'Fizz',\n",
       " 28,\n",
       " 29,\n",
       " 'FizzBuzz',\n",
       " 31,\n",
       " 32,\n",
       " 'Fizz',\n",
       " 34,\n",
       " 'Buzz',\n",
       " 'Fizz',\n",
       " 37,\n",
       " 38,\n",
       " 'Fizz',\n",
       " 'Buzz',\n",
       " 41,\n",
       " 'Fizz',\n",
       " 43,\n",
       " 44,\n",
       " 'FizzBuzz',\n",
       " 46,\n",
       " 47,\n",
       " 'Fizz',\n",
       " 49,\n",
       " 'Buzz',\n",
       " 'Fizz',\n",
       " 52,\n",
       " 53,\n",
       " 'Fizz',\n",
       " 'Buzz',\n",
       " 56,\n",
       " 'Fizz',\n",
       " 58,\n",
       " 59,\n",
       " 'FizzBuzz',\n",
       " 61,\n",
       " 62,\n",
       " 'Fizz',\n",
       " 64,\n",
       " 'Buzz',\n",
       " 'Fizz',\n",
       " 67,\n",
       " 68,\n",
       " 'Fizz',\n",
       " 'Buzz',\n",
       " 71,\n",
       " 'Fizz',\n",
       " 73,\n",
       " 74,\n",
       " 'FizzBuzz',\n",
       " 76,\n",
       " 77,\n",
       " 'Fizz',\n",
       " 79,\n",
       " 'Buzz',\n",
       " 'Fizz',\n",
       " 82,\n",
       " 83,\n",
       " 'Fizz',\n",
       " 'Buzz',\n",
       " 86,\n",
       " 'Fizz',\n",
       " 88,\n",
       " 89,\n",
       " 'FizzBuzz',\n",
       " 91,\n",
       " 92,\n",
       " 'Fizz',\n",
       " 94,\n",
       " 'Buzz',\n",
       " 'Fizz',\n",
       " 97,\n",
       " 98,\n",
       " 'Fizz',\n",
       " 'Buzz']"
      ]
     },
     "execution_count": 116,
     "metadata": {},
     "output_type": "execute_result"
    }
   ],
   "source": [
    "def is_fizz_buzz(number):\n",
    "    div_by_3=number%3\n",
    "    div_by_5= number%5\n",
    "    if div_by_3 == 0 and div_by_5 == 0:\n",
    "        return \"FizzBuzz\"    \n",
    "    elif div_by_3 == 0:\n",
    "        return \"Fizz\"\n",
    "    elif div_by_5 == 0:\n",
    "        return \"Buzz\"\n",
    "    return number\n",
    "\n",
    "numbers_fizz_buzz = []\n",
    "\n",
    "for num in range(1,101,1):\n",
    "    numbers_fizz_buzz.append(is_fizz_buzz(num))\n",
    "        \n",
    "\n",
    "numbers_fizz_buzz"
   ]
  },
  {
   "cell_type": "markdown",
   "metadata": {},
   "source": [
    "Like in the previous problem, i used modulo to figure out if the number is divisible by 3 or 5 and asked my function to return fizz, buzz, or fizzbuzz using if statements. big learning was if statements matter. Then i called my function using a for loop and range between 1 and 100."
   ]
  },
  {
   "cell_type": "code",
   "execution_count": null,
   "metadata": {},
   "outputs": [],
   "source": []
  },
  {
   "cell_type": "code",
   "execution_count": null,
   "metadata": {},
   "outputs": [],
   "source": []
  }
 ],
 "metadata": {
  "anaconda-cloud": {},
  "kernelspec": {
   "display_name": "Python 3",
   "language": "python",
   "name": "python3"
  },
  "language_info": {
   "codemirror_mode": {
    "name": "ipython",
    "version": 3
   },
   "file_extension": ".py",
   "mimetype": "text/x-python",
   "name": "python",
   "nbconvert_exporter": "python",
   "pygments_lexer": "ipython3",
   "version": "3.6.5"
  }
 },
 "nbformat": 4,
 "nbformat_minor": 2
}
